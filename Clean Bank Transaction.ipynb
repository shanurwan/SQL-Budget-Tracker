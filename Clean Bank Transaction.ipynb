{
 "cells": [
  {
   "cell_type": "code",
   "execution_count": 1,
   "id": "260180ca-c597-4636-a588-836c6fd830dc",
   "metadata": {},
   "outputs": [],
   "source": [
    "import csv\n",
    "import re\n",
    "\n",
    "input_file = \"Bank_Transaction.csv\"\n",
    "output_file = \"Cleaned_Bank_Transaction.csv\"\n",
    "\n",
    "with open(input_file, 'r', encoding='utf-8') as infile, open(output_file, 'w', newline='', encoding='utf-8') as outfile:\n",
    "    reader = csv.reader(infile)\n",
    "    writer = csv.writer(outfile)\n",
    "\n",
    "    writer.writerow(['txn_date', 'description', 'debit', 'credit', 'balance'])  # optional, i prefer to rename my header\n",
    "\n",
    "    # Merge Multi-line Descriptions\n",
    "    #Sometimes, a single transaction is split across multiple lines : the date and numbers are on one row, but the description continues on the next row.\n",
    "    # MySQL cannot read this properly\n",
    "    #Open the csv file using notebook to understand this\n",
    "    buffer = [] #temporary storage to hold each transaction before saving it in one line\n",
    "    for row in reader: #Loop through each row (line) in the CSV file\n",
    "        if re.match(r'^\\d{1,2}/\\d{1,2}/\\d{4}$', row[0].strip()) or re.match(r'^\\d{4}-\\d{2}-\\d{2}$', row[0].strip()):\n",
    "            # This checks: Does the first cell look like a date? if yes then new transaction start if not then just description\n",
    "            if buffer:\n",
    "                writer.writerow(buffer)\n",
    "            buffer = row\n",
    "        else:\n",
    "            # If it’s a continuation of description\n",
    "            if buffer:\n",
    "                buffer[1] += ' ' + ' '.join(row).strip()\n",
    "\n",
    "    # If buffer already has a full row stored, write it to the output file\n",
    "    if buffer:\n",
    "        writer.writerow(buffer)\n",
    "\n",
    "# Clean numeric values (remove commas)\n",
    "import pandas as pd\n",
    "\n",
    "df = pd.read_csv(output_file)\n",
    "\n",
    "for col in ['debit', 'credit', 'balance']:\n",
    "    df[col] = (\n",
    "        df[col].astype(str)\n",
    "        .str.replace(',', '', regex=False)\n",
    "        .str.strip()\n",
    "        .replace('', None)\n",
    "        .astype(float)\n",
    "    )\n",
    "\n",
    "df.to_csv(output_file, index=False)\n"
   ]
  },
  {
   "cell_type": "code",
   "execution_count": null,
   "id": "cacdf830-db7a-4ea2-a908-643a46ae0b8a",
   "metadata": {},
   "outputs": [],
   "source": []
  }
 ],
 "metadata": {
  "kernelspec": {
   "display_name": "Python 3 (ipykernel)",
   "language": "python",
   "name": "python3"
  },
  "language_info": {
   "codemirror_mode": {
    "name": "ipython",
    "version": 3
   },
   "file_extension": ".py",
   "mimetype": "text/x-python",
   "name": "python",
   "nbconvert_exporter": "python",
   "pygments_lexer": "ipython3",
   "version": "3.12.9"
  }
 },
 "nbformat": 4,
 "nbformat_minor": 5
}
